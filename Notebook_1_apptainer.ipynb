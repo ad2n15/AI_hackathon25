{
 "cells": [
  {
   "cell_type": "markdown",
   "id": "80958372-e368-4df6-a246-8b31953e0ff3",
   "metadata": {},
   "source": [
    "# Introduction to Apptainer Containers\n",
    "\n",
    "**Apptainer** (formerly Singularity) is a container system designed for HPC environments, allowing you to package applications and their dependencies in a portable format.\n",
    "\n",
    "**Container is available in three states:** \n",
    "(i) dockerfile  is instructions to build a container   \n",
    "(ii) container is a running instance!!!  \n",
    "(iii) Image    is a file (e.g x.tar or x.sif)  \n",
    "\n",
    "\n",
    "![Container Overview](../images/container_images.png)\n",
    "\n",
    "\n",
    "**Container lacks connection to;**  \n",
    "(i) Your file system  \n",
    "(ii) Your system ports  \n",
    " \n",
    "You need **internet** connection to build a container from dockerfile but not to run it  \n",
    "\n"
   ]
  },
  {
   "cell_type": "code",
   "execution_count": 2,
   "id": "f4dfefe2-1818-4be4-9db1-80cdc2fb94ee",
   "metadata": {},
   "outputs": [
    {
     "name": "stdout",
     "output_type": "stream",
     "text": [
      "root\n",
      "ruby047\n",
      "/scratch/aazd1f17/shared_space/AI_hackathon25/notebooks\n"
     ]
    }
   ],
   "source": [
    "# Display current user, hostname, and where we are\n",
    "!whoami\n",
    "!hostname\n",
    "!pwd\n"
   ]
  },
  {
   "cell_type": "code",
   "execution_count": 21,
   "id": "5d9ffada-01ad-4898-b73f-12313f37d2cb",
   "metadata": {},
   "outputs": [
    {
     "name": "stdout",
     "output_type": "stream",
     "text": [
      "\u001b[0m\u001b[38;5;40mbuild_helical_container.sh\u001b[0m*  \u001b[38;5;40mhelical_singularity.def\u001b[0m*\n",
      "\u001b[38;5;40mhelical_container.sif\u001b[0m*       \u001b[38;5;40mnohup.out\u001b[0m*\n"
     ]
    }
   ],
   "source": [
    "ls ../helical/"
   ]
  },
  {
   "cell_type": "code",
   "execution_count": 22,
   "id": "2ef35e3b-c974-403c-a879-8f8f6953958a",
   "metadata": {},
   "outputs": [
    {
     "name": "stdout",
     "output_type": "stream",
     "text": [
      "Bootstrap: docker\n",
      "From : library/python:3.11\n",
      "#From : nvidia/cuda:12.5.1-cudnn-devel-ubuntu22.04\n",
      "\n",
      "%labels\n",
      "    Author maxime@helical-ai.com\n",
      "    Author benoit@helical-ai.com\n",
      "    Version v0.0.1\n",
      "\n",
      "%post\n",
      "   cd /home\n",
      "   apt-get -y upgrade \n",
      "   apt-get -y update\n",
      "   apt-get install -y cmake wget git curl gcc gfortran \n",
      "   apt-get clean\n",
      "   python3 -m pip install helical\n"
     ]
    }
   ],
   "source": [
    "cat ../helical/helical_singularity.def"
   ]
  },
  {
   "cell_type": "code",
   "execution_count": 18,
   "id": "f344c7f7-83ac-4f47-86b0-34dd28b72301",
   "metadata": {},
   "outputs": [
    {
     "name": "stdout",
     "output_type": "stream",
     "text": [
      "bin   environment  lib\t  mnt\troot  scratch\t   sys\tvar\n",
      "boot  etc\t   lib64  opt\trun   singularity  tmp\tworkspace\n",
      "dev   home\t   media  proc\tsbin  srv\t   usr\n"
     ]
    }
   ],
   "source": [
    "# Root file system contents\n",
    "!ls /\n",
    "!ls /bin | grep Onto\n"
   ]
  },
  {
   "cell_type": "code",
   "execution_count": 1,
   "id": "7e0eb523-fd26-42e7-9a0e-661d1999fa01",
   "metadata": {},
   "outputs": [
    {
     "name": "stdout",
     "output_type": "stream",
     "text": [
      "# This script is used to run a Jupyter notebook server inside apptainer.\n",
      "# it set port 8888 and bind the current directory to the container.\n",
      "\n",
      "\n",
      "module load apptainer\n",
      "\n",
      "apptainer exec -H $PWD \\\n",
      "--bind \"$PWD:/workspace\" \\\n",
      "--nv --fakeroot helical/helical_container.sif \\\n",
      ".local/bin/jupyter notebook --ip=0.0.0.0 --port=8888 --no-browser --allow-root\n",
      "\n"
     ]
    }
   ],
   "source": [
    "!cat ../run_jupyter.sh"
   ]
  }
 ],
 "metadata": {
  "kernelspec": {
   "display_name": "Python 3 (ipykernel)",
   "language": "python",
   "name": "python3"
  },
  "language_info": {
   "codemirror_mode": {
    "name": "ipython",
    "version": 3
   },
   "file_extension": ".py",
   "mimetype": "text/x-python",
   "name": "python",
   "nbconvert_exporter": "python",
   "pygments_lexer": "ipython3",
   "version": "3.11.11"
  }
 },
 "nbformat": 4,
 "nbformat_minor": 5
}
