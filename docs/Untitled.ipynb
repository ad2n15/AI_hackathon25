{
 "cells": [
  {
   "cell_type": "markdown",
   "id": "1076116a-fbf1-497d-9392-10594ed4f6ad",
   "metadata": {},
   "source": [
    "# Ollama CLI Cheat Sheet\n",
    "\n",
    "This cheat sheet will help you quickly get up to speed with the Ollama CLI. Use it for managing models, interacting with them, and integrating Ollama into your workflows.\n",
    "\n",
    "🚀 **Installation**\n",
    "We already have Ollama on our iridis-X module load:\n",
    "\n",
    "```bash\n",
    "module load ollama"
   ]
  }
 ],
 "metadata": {
  "kernelspec": {
   "display_name": "Python 3 (ipykernel)",
   "language": "python",
   "name": "python3"
  },
  "language_info": {
   "codemirror_mode": {
    "name": "ipython",
    "version": 3
   },
   "file_extension": ".py",
   "mimetype": "text/x-python",
   "name": "python",
   "nbconvert_exporter": "python",
   "pygments_lexer": "ipython3",
   "version": "3.11.11"
  }
 },
 "nbformat": 4,
 "nbformat_minor": 5
}
