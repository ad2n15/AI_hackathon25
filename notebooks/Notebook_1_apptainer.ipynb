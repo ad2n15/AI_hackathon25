{
 "cells": [
  {
   "cell_type": "markdown",
   "id": "80958372-e368-4df6-a246-8b31953e0ff3",
   "metadata": {},
   "source": [
    "# Introduction to Apptainer Containers\n",
    "\n",
    "**Apptainer** (formerly Singularity) is a container system designed for HPC environments, allowing you to package applications and their dependencies in a portable format.\n",
    "\n",
    "**Container is available in three states:** \n",
    "(i) dockerfile  is instructions to build a container   \n",
    "(ii) container is a running instance!!!  \n",
    "(iii) Image    is a file (e.g x.tar or x.sif)  \n",
    "\n",
    "\n",
    "![Container Overview](../images/container_images.png)\n",
    "\n",
    "\n",
    "**Container lacks connection to;**  \n",
    "(i) Your file system  \n",
    "(ii) Your system ports  \n",
    " \n",
    "You need **internet** connection to build a container from dockerfile but not to run it  \n",
    "\n"
   ]
  },
  {
   "cell_type": "code",
   "execution_count": null,
   "id": "f4dfefe2-1818-4be4-9db1-80cdc2fb94ee",
   "metadata": {},
   "outputs": [],
   "source": [
    "# Display current user, hostname, and where we are\n",
    "!whoami\n",
    "!hostname\n",
    "!pwd\n"
   ]
  },
  {
   "cell_type": "code",
   "execution_count": null,
   "id": "5d9ffada-01ad-4898-b73f-12313f37d2cb",
   "metadata": {},
   "outputs": [],
   "source": [
    "ls ../helical/"
   ]
  },
  {
   "cell_type": "code",
   "execution_count": null,
   "id": "2ef35e3b-c974-403c-a879-8f8f6953958a",
   "metadata": {},
   "outputs": [],
   "source": [
    "cat ../helical/helical_singularity.def"
   ]
  },
  {
   "cell_type": "code",
   "execution_count": null,
   "id": "f344c7f7-83ac-4f47-86b0-34dd28b72301",
   "metadata": {},
   "outputs": [],
   "source": [
    "# Root file system contents\n",
    "!ls /\n",
    "!ls /bin | grep Onto\n"
   ]
  },
  {
   "cell_type": "code",
   "execution_count": null,
   "id": "7e0eb523-fd26-42e7-9a0e-661d1999fa01",
   "metadata": {},
   "outputs": [],
   "source": [
    "!cat ../run_jupyter.sh"
   ]
  }
 ],
 "metadata": {
  "kernelspec": {
   "display_name": "Python 3 (ipykernel)",
   "language": "python",
   "name": "python3"
  },
  "language_info": {
   "codemirror_mode": {
    "name": "ipython",
    "version": 3
   },
   "file_extension": ".py",
   "mimetype": "text/x-python",
   "name": "python",
   "nbconvert_exporter": "python",
   "pygments_lexer": "ipython3",
   "version": "3.11.11"
  }
 },
 "nbformat": 4,
 "nbformat_minor": 5
}
