{
 "cells": [
  {
   "cell_type": "markdown",
   "metadata": {},
   "source": [
    "# Fine-Tune HyenaDNA On A Downstream Classification Task"
   ]
  },
  {
   "cell_type": "markdown",
   "metadata": {},
   "source": [
    "In this notebook, we will fine-tune the HynaDNA model on a downstream binary classification task involving cis-regulatory elements.\n",
    "\n",
    "[![Open In Colab](https://colab.research.google.com/assets/colab-badge.svg)](https://colab.research.google.com/github/helicalAI/helical/blob/main/examples/notebooks/HyenaDNA-Fine-Tuning.ipynb)"
   ]
  },
  {
   "cell_type": "markdown",
   "metadata": {},
   "source": [
    "### Install the package"
   ]
  },
  {
   "cell_type": "code",
   "execution_count": null,
   "metadata": {},
   "outputs": [],
   "source": [
    "# !pip install helical"
   ]
  },
  {
   "cell_type": "markdown",
   "metadata": {},
   "source": [
    "# ** HyenaDNA *** \n",
    "Hyena is a genomic foundation model designed to process DNA sequences at single-nucleotide resolution over extremely long contexts—up to 1 million tokens. This represents a 500x increase in context length compared to previous Transformer-based models, which were limited to 512–4,000 tokens due to the quadratic scaling of attention mechanisms.\n",
    "\n",
    " Key Innovations\n",
    "Single-Nucleotide Tokenization: HyenaDNA uses a vocabulary of just five tokens—A, C, G, T, and N—allowing it to model DNA sequences at the finest possible resolution without relying on k-mers or token aggregation \n",
    "Hugging Face\n",
    "\n",
    "Hyena Operator Architecture: Instead of attention, HyenaDNA employs the Hyena operator—a convolution-based mechanism that scales sub-quadratically with sequence length. This enables efficient training and inference on long sequences \n",
    "Hugging Face\n",
    "\n",
    "Sequence Length Warm-Up: To stabilize training on ultra-long sequences, HyenaDNA introduces a scheduling technique that gradually increases sequence length during training. This approach reduces training time by up to 40% and improves accuracy \n",
    "ar5iv\n",
    "\n",
    "In-Context Learning: HyenaDNA demonstrates the first use of in-context learning in genomics, allowing it to adapt to new tasks without updating pretrained model weights. This is achieved through techniques like soft prompting and instruction fine-tuning \n",
    "\n",
    "\n",
    "HyenaDNA's capabilities make it suitable for a range of genomic tasks, including:​\n",
    "\n",
    "Predicting regulatory elements\n",
    "\n",
    "Analyzing chromatin profiles\n",
    "\n",
    "Species classification\n",
    "\n",
    "Identifying enhancers and promoters\n"
   ]
  },
  {
   "cell_type": "markdown",
   "metadata": {},
   "source": [
    "### Imports"
   ]
  },
  {
   "cell_type": "code",
   "execution_count": 1,
   "metadata": {},
   "outputs": [
    {
     "name": "stderr",
     "output_type": "stream",
     "text": [
      "INFO:datasets:PyTorch version 2.6.0 available.\n"
     ]
    }
   ],
   "source": [
    "from helical.models.hyena_dna import HyenaDNA, HyenaDNAConfig, HyenaDNAFineTuningModel\n",
    "from datasets import load_dataset\n",
    "from sklearn.metrics import classification_report,confusion_matrix,ConfusionMatrixDisplay\n",
    "import matplotlib.pyplot as plt\n",
    "import torch\n",
    "import logging, warnings\n",
    "import numpy as np\n",
    "\n",
    "logging.getLogger().setLevel(logging.ERROR)\n",
    "\n",
    "warnings.filterwarnings(\"ignore\")"
   ]
  },
  {
   "cell_type": "markdown",
   "metadata": {},
   "source": [
    "Make use of GPU if there is a GPU present, otherwise default to the CPU"
   ]
  },
  {
   "cell_type": "code",
   "execution_count": 2,
   "metadata": {},
   "outputs": [],
   "source": [
    "device = \"cuda\" if torch.cuda.is_available() else \"cpu\""
   ]
  },
  {
   "cell_type": "markdown",
   "metadata": {},
   "source": [
    "### Dataset Download"
   ]
  },
  {
   "cell_type": "markdown",
   "metadata": {},
   "source": [
    "- We now use the Hugging Face API to download the [dataset](https://huggingface.co/datasets/InstaDeepAI/nucleotide_transformer_downstream_tasks_revised)\n",
    "- We select the task from the list of tasks available for this dataset"
   ]
  },
  {
   "cell_type": "code",
   "execution_count": 3,
   "metadata": {},
   "outputs": [
    {
     "name": "stderr",
     "output_type": "stream",
     "text": [
      "Using the latest cached version of the module from /scratch/aazd1f17/shared_space/AI_hackathon25/.cache/huggingface/modules/datasets_modules/datasets/InstaDeepAI--nucleotide_transformer_downstream_tasks_revised/c474eb6118e50391bce4ca7187ae0d9809b8cd611d21134179dba647656b3361 (last modified on Wed Apr 16 08:52:51 2025) since it couldn't be found locally at InstaDeepAI/nucleotide_transformer_downstream_tasks_revised, or remotely on the Hugging Face Hub.\n",
      "WARNING:datasets.load:Using the latest cached version of the module from /scratch/aazd1f17/shared_space/AI_hackathon25/.cache/huggingface/modules/datasets_modules/datasets/InstaDeepAI--nucleotide_transformer_downstream_tasks_revised/c474eb6118e50391bce4ca7187ae0d9809b8cd611d21134179dba647656b3361 (last modified on Wed Apr 16 08:52:51 2025) since it couldn't be found locally at InstaDeepAI/nucleotide_transformer_downstream_tasks_revised, or remotely on the Hugging Face Hub.\n",
      "Using the latest cached version of the module from /scratch/aazd1f17/shared_space/AI_hackathon25/.cache/huggingface/modules/datasets_modules/datasets/InstaDeepAI--nucleotide_transformer_downstream_tasks_revised/c474eb6118e50391bce4ca7187ae0d9809b8cd611d21134179dba647656b3361 (last modified on Wed Apr 16 08:52:51 2025) since it couldn't be found locally at InstaDeepAI/nucleotide_transformer_downstream_tasks_revised, or remotely on the Hugging Face Hub.\n",
      "WARNING:datasets.load:Using the latest cached version of the module from /scratch/aazd1f17/shared_space/AI_hackathon25/.cache/huggingface/modules/datasets_modules/datasets/InstaDeepAI--nucleotide_transformer_downstream_tasks_revised/c474eb6118e50391bce4ca7187ae0d9809b8cd611d21134179dba647656b3361 (last modified on Wed Apr 16 08:52:51 2025) since it couldn't be found locally at InstaDeepAI/nucleotide_transformer_downstream_tasks_revised, or remotely on the Hugging Face Hub.\n"
     ]
    }
   ],
   "source": [
    "label = \"promoter_tata\"\n",
    "dataset_train = load_dataset(\"InstaDeepAI/nucleotide_transformer_downstream_tasks_revised\", label, split=\"train\", trust_remote_code=True)\n",
    "dataset_test = load_dataset(\"InstaDeepAI/nucleotide_transformer_downstream_tasks_revised\", label, split=\"test\", trust_remote_code=True)\n",
    "\n"
   ]
  },
  {
   "cell_type": "code",
   "execution_count": 4,
   "metadata": {},
   "outputs": [
    {
     "data": {
      "text/plain": [
       "{0: 511, 1: 489}"
      ]
     },
     "execution_count": 4,
     "metadata": {},
     "output_type": "execute_result"
    }
   ],
   "source": [
    "shuffled_dataset = dataset_train.shuffle(seed=42)  # you can set a seed for reproducibility\n",
    "dataset_train = shuffled_dataset.select(range(1000))\n",
    "\n",
    "unique, counts = np.unique(dataset_train[\"label\"], return_counts=True)\n",
    "dict(zip(unique, counts))\n"
   ]
  },
  {
   "cell_type": "code",
   "execution_count": 5,
   "metadata": {},
   "outputs": [
    {
     "data": {
      "text/plain": [
       "{0: 9, 1: 11}"
      ]
     },
     "execution_count": 5,
     "metadata": {},
     "output_type": "execute_result"
    }
   ],
   "source": [
    "shuffled_dataset = dataset_test.shuffle(seed=42)  # you can set a seed for reproducibility\n",
    "dataset_test = shuffled_dataset.select(range(20))\n",
    "\n",
    "unique, counts = np.unique(dataset_test[\"label\"], return_counts=True)\n",
    "dict(zip(unique, counts))"
   ]
  },
  {
   "cell_type": "markdown",
   "metadata": {},
   "source": [
    "HyenaDNA Model Configuration Options\n",
    "model_name\n",
    "Specifies the name or variant of the model to use. Examples include:\n",
    "\n",
    "\"hyenadna-tiny-1k-seqlen\": a lightweight model for short sequences.\n",
    "\n",
    "\"hyenadna-tiny-1k-seqlen-d256\": similar, but with a different embedding dimension.\n",
    "\n",
    "batch_size\n",
    "Defines how many sequences are processed together during training or inference. Affects memory usage and training speed.\n",
    "\n",
    "n_layer\n",
    "Number of layers in the model. Increasing this typically allows the model to learn more complex representations, at the cost of higher computational requirements.\n",
    "\n",
    "vocab_size\n",
    "Number of distinct tokens in the vocabulary. For DNA, this typically includes A, C, G, T, and special tokens like N or padding.\n",
    "\n",
    "resid_dropout\n",
    "Dropout rate applied to residual connections to help prevent overfitting by randomly deactivating parts of the network during training.\n",
    "\n",
    "embed_dropout\n",
    "Dropout applied to the embedding layer. Helps regularize the model and prevent overfitting.\n",
    "\n",
    "fused_mlp\n",
    "If True, enables a fused implementation of the multi-layer perceptron (MLP) block for improved performance on supported hardware.\n",
    "\n",
    "fused_dropout_add_ln\n",
    "If True, uses a fused operation that combines dropout, addition, and layer normalization into a single efficient step.\n",
    "\n",
    "residual_in_fp32\n",
    "If True, computes residual connections in 32-bit floating point precision to improve numerical stability, even if other parts of the model use mixed precision.\n",
    "\n",
    "checkpoint_mixer\n",
    "If True, enables gradient checkpointing for the mixer layers. This saves memory by recomputing intermediate activations during backpropagation.\n",
    "\n",
    "checkpoint_mlp\n",
    "If True, enables gradient checkpointing for the MLP layers. This also reduces memory usage during training.\n",
    "\n",
    "pad_vocab_size_multiple\n",
    "Pads the vocabulary size so it's a multiple of this number. This can help with hardware optimization and memory alignment.\n",
    "\n",
    "return_hidden_state\n",
    "If True, the model returns the hidden states from the final layer, which can be useful for downstream tasks or analysis.\n",
    "\n",
    "device\n",
    "Specifies whether to run the model on the CPU or GPU:\n",
    "\n",
    "\"cpu\": for environments without a GPU.\n",
    "\n",
    "\"cuda\": uses the GPU for faster computation.\n",
    "\n",
    "layer\n",
    "A dictionary of parameters specific to the Hyena layer. Example options include:\n",
    "\n",
    "_name_: The name of the layer type (e.g., \"hyena\").\n",
    "\n",
    "emb_dim: Embedding dimension size.\n",
    "\n",
    "filter_order: Controls the complexity of the long convolution filter.\n",
    "\n",
    "local_order: Controls local receptive field order.\n",
    "\n",
    "l_max: Maximum sequence length the model can process.\n",
    "\n",
    "modulate: Whether to use modulation (adds nonlinearity to the filter).\n",
    "\n",
    "w: Positional encoding scaling factor.\n",
    "\n",
    "lr: Learning rate for this layer.\n",
    "\n",
    "wd: Weight decay (regularization).\n",
    "\n",
    "lr_pos_emb: Learning rate for positional embeddings."
   ]
  },
  {
   "cell_type": "markdown",
   "metadata": {},
   "source": [
    "Since this is a binary classification task, only 2 labels are present below"
   ]
  },
  {
   "cell_type": "markdown",
   "metadata": {},
   "source": [
    "### Define our HyenaDNA fine-tuning model and configs"
   ]
  },
  {
   "cell_type": "code",
   "execution_count": 6,
   "metadata": {},
   "outputs": [],
   "source": [
    "hyena_config = HyenaDNAConfig(model_name=\"hyenadna-tiny-1k-seqlen-d256\", batch_size=10, device=device)\n",
    "\n",
    "\n",
    "hyena_fine_tune = HyenaDNAFineTuningModel(hyena_config, fine_tuning_head=\"classification\", output_size=len(np.unique(dataset_train[\"label\"])))\n",
    "\n"
   ]
  },
  {
   "cell_type": "markdown",
   "metadata": {},
   "source": [
    "Fine-Tuning Parameters\n",
    "hyena_config\n",
    "Type: HyenaDNAConfig\n",
    "This is the configuration object for the base HyenaDNA model. It includes all architectural and training parameters used when instantiating the original HyenaDNA model (e.g., number of layers, embedding size, sequence length, dropout rates, etc.). This config ensures consistency between pretraining and fine-tuning.\n",
    "\n",
    "fine_tuning_head\n",
    "Type: Literal[\"classification\", \"regression\"] | HelicalBaseFineTuningHead\n",
    "Specifies the type of task-specific head to append to the base model for fine-tuning:\n",
    "\n",
    "\"classification\": Adds a classification head suitable for categorical outputs (e.g., predicting labels).\n",
    "\n",
    "\"regression\": Adds a regression head for continuous-valued outputs.\n",
    "\n",
    "Alternatively, a custom head can be provided by subclassing HelicalBaseFineTuningHead for advanced use cases.\n",
    "\n",
    "output_size\n",
    "Type: Optional[int], default = None\n",
    "Defines the number of output units in the fine-tuning head:\n",
    "\n",
    "Required if using a built-in \"classification\" or \"regression\" head.\n",
    "\n",
    "For classification, this typically equals the number of classes.\n",
    "\n",
    "For regression, this is usually 1 (for scalar output) or more for multi-target regression."
   ]
  },
  {
   "cell_type": "markdown",
   "metadata": {},
   "source": [
    "### Process the dataset for both training and testing"
   ]
  },
  {
   "cell_type": "code",
   "execution_count": 7,
   "metadata": {},
   "outputs": [
    {
     "data": {
      "text/plain": [
       "Dataset({\n",
       "    features: ['input_ids', 'token_type_ids', 'attention_mask'],\n",
       "    num_rows: 1000\n",
       "})"
      ]
     },
     "execution_count": 7,
     "metadata": {},
     "output_type": "execute_result"
    }
   ],
   "source": [
    "train_dataset = hyena_fine_tune.process_data(dataset_train[\"sequence\"])\n",
    "test_dataset = hyena_fine_tune.process_data(dataset_test[\"sequence\"])\n",
    "\n",
    "train_dataset\n",
    "\n"
   ]
  },
  {
   "cell_type": "markdown",
   "metadata": {},
   "source": [
    "### Fine-tune the model"
   ]
  },
  {
   "cell_type": "markdown",
   "metadata": {},
   "source": [
    "For this we set our training and validation datasets along with their labels"
   ]
  },
  {
   "cell_type": "code",
   "execution_count": 8,
   "metadata": {},
   "outputs": [
    {
     "name": "stderr",
     "output_type": "stream",
     "text": [
      "Fine-Tuning: epoch 1/2: 100%|█████| 100/100 [05:44<00:00,  3.44s/it, loss=0.689]\n",
      "Fine-Tuning Validation: 100%|██████| 2/2 [00:02<00:00,  1.19s/it, val_loss=0.67]\n",
      "Fine-Tuning: epoch 2/2: 100%|█████| 100/100 [03:04<00:00,  1.84s/it, loss=0.672]\n",
      "Fine-Tuning Validation: 100%|█████| 2/2 [00:00<00:00, 11.26it/s, val_loss=0.641]\n"
     ]
    }
   ],
   "source": [
    "hyena_fine_tune.train(train_dataset=train_dataset, train_labels=dataset_train[\"label\"], validation_dataset=test_dataset, validation_labels=dataset_test[\"label\"], epochs=2, optimizer_params={\"lr\": 2e-6}, lr_scheduler_params={\"name\": \"linear\", \"num_warmup_steps\": 0})"
   ]
  },
  {
   "cell_type": "markdown",
   "metadata": {},
   "source": [
    "### Evaluate the fine-tuned model"
   ]
  },
  {
   "cell_type": "markdown",
   "metadata": {},
   "source": [
    "We now get the outputs of the model on our test dataset and display some results"
   ]
  },
  {
   "cell_type": "code",
   "execution_count": 11,
   "metadata": {},
   "outputs": [
    {
     "name": "stderr",
     "output_type": "stream",
     "text": [
      "100%|█████████████████████████████████████████████| 2/2 [00:00<00:00, 14.71it/s]\n"
     ]
    },
    {
     "data": {
      "text/plain": [
       "array([[-0.32091585,  0.16266964],\n",
       "       [-0.2422441 ,  0.14847198],\n",
       "       [-0.22834155,  0.0201284 ],\n",
       "       [-0.17845349,  0.05250609],\n",
       "       [-0.22943982, -0.15634558],\n",
       "       [-0.12681265,  0.0402803 ],\n",
       "       [-0.19776164,  0.01256101],\n",
       "       [-0.19006096, -0.02372168],\n",
       "       [-0.02599767,  0.01847797],\n",
       "       [-0.08901426,  0.00633061],\n",
       "       [-0.24941063, -0.00404599],\n",
       "       [-0.15809153,  0.00249021],\n",
       "       [-0.17662127,  0.03200554],\n",
       "       [-0.00862634, -0.08445044],\n",
       "       [-0.08595763,  0.00305455],\n",
       "       [-0.05551647, -0.02868943],\n",
       "       [-0.13141441,  0.01505553],\n",
       "       [-0.2668868 , -0.02389906],\n",
       "       [-0.24033186,  0.00173225],\n",
       "       [-0.15211639, -0.08001232]], dtype=float32)"
      ]
     },
     "execution_count": 11,
     "metadata": {},
     "output_type": "execute_result"
    }
   ],
   "source": [
    "outputs = hyena_fine_tune.get_outputs(test_dataset)\n",
    "outputs"
   ]
  },
  {
   "cell_type": "code",
   "execution_count": 12,
   "metadata": {},
   "outputs": [
    {
     "name": "stdout",
     "output_type": "stream",
     "text": [
      "              precision    recall  f1-score   support\n",
      "\n",
      "           0       1.00      0.11      0.20         9\n",
      "           1       0.58      1.00      0.73        11\n",
      "\n",
      "    accuracy                           0.60        20\n",
      "   macro avg       0.79      0.56      0.47        20\n",
      "weighted avg       0.77      0.60      0.49        20\n",
      "\n"
     ]
    }
   ],
   "source": [
    "print(classification_report(dataset_test[\"label\"], outputs.argmax(axis=1)))"
   ]
  },
  {
   "cell_type": "code",
   "execution_count": 13,
   "metadata": {},
   "outputs": [
    {
     "data": {
      "image/png": "[encoded data removed]",
      "text/plain": [
       "<Figure size 1000x1000 with 2 Axes>"
      ]
     },
     "metadata": {
      "needs_background": "light"
     },
     "output_type": "display_data"
    }
   ],
   "source": [
    "# Compute the confusion matrix\n",
    "cm = confusion_matrix(dataset_test[\"label\"], outputs.argmax(axis=1))\n",
    "\n",
    "# Perform row-wise normalization\n",
    "cm_normalized = cm.astype('float') / cm.sum(axis=1)[:, np.newaxis]\n",
    "\n",
    "# Get unique labels in the order they appear in the confusion matrix\n",
    "unique_labels = np.unique(np.concatenate((dataset_test[\"label\"], outputs.argmax(axis=1))))\n",
    "\n",
    "# Create and plot the normalized confusion matrix\n",
    "fig, ax = plt.subplots(figsize=(10, 10))\n",
    "disp = ConfusionMatrixDisplay(confusion_matrix=cm_normalized, display_labels=unique_labels)\n",
    "disp.plot(ax=ax, xticks_rotation='vertical', values_format='.2f', cmap='coolwarm')\n",
    "\n",
    "# Customize the plot\n",
    "ax.set_title('Normalized Confusion Matrix (Row-wise)')\n",
    "fig.set_facecolor(\"none\")\n",
    "\n",
    "plt.tight_layout()\n",
    "plt.show()"
   ]
  }
 ],
 "metadata": {
  "kernelspec": {
   "display_name": "Python 3 (ipykernel)",
   "language": "python",
   "name": "python3"
  },
  "language_info": {
   "codemirror_mode": {
    "name": "ipython",
    "version": 3
   },
   "file_extension": ".py",
   "mimetype": "text/x-python",
   "name": "python",
   "nbconvert_exporter": "python",
   "pygments_lexer": "ipython3",
   "version": "3.11.11"
  }
 },
 "nbformat": 4,
 "nbformat_minor": 4
}
