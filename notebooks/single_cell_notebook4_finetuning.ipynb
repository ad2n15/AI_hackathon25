{
 "cells": [
  {
   "cell_type": "code",
   "execution_count": 1,
   "id": "6f430400-c164-4643-a422-af6ff93c56a5",
   "metadata": {},
   "outputs": [
    {
     "name": "stderr",
     "output_type": "stream",
     "text": [
      "INFO:datasets:PyTorch version 2.6.0 available.\n"
     ]
    }
   ],
   "source": [
    "from sklearn.neighbors import KNeighborsClassifier\n",
    "from sklearn.metrics import classification_report,confusion_matrix,ConfusionMatrixDisplay\n",
    "import warnings\n",
    "import seaborn as sns\n",
    "import matplotlib.pyplot as plt\n",
    "import umap\n",
    "import pandas as pd\n",
    "import numpy as np\n",
    "import logging\n",
    "import torch\n",
    "from helical.utils import get_anndata_from_hf_dataset\n",
    "from datasets import load_dataset\n",
    "\n",
    "logging.getLogger().setLevel(logging.ERROR)\n",
    "\n",
    "warnings.filterwarnings(\"ignore\")\n",
    "\n",
    "# Import Geneformer & UCE from the Helical package\n",
    "from helical.models.geneformer import Geneformer,GeneformerConfig\n",
    "from helical.models.uce import UCE, UCEConfig"
   ]
  },
  {
   "cell_type": "code",
   "execution_count": 2,
   "id": "16868748-7a09-42c0-8170-7b2af35c9249",
   "metadata": {},
   "outputs": [],
   "source": [
    "import anndata as ad\n",
    "\n",
    "ann_data = ad.read_h5ad(\"../fb338c4d-e63a-4b17-abd6-1032a66c8886.h5ad\")"
   ]
  },
  {
   "cell_type": "code",
   "execution_count": 3,
   "id": "f4e17932-3b32-4a0a-ad4a-9a894cd07377",
   "metadata": {},
   "outputs": [
    {
     "data": {
      "text/plain": [
       "AnnData object with n_obs × n_vars = 422220 × 33105\n",
       "    obs: 'Ethnicity', 'BMI', 'annotation_broad', 'annotation_detailed', 'annotation_detailed_fullNames', 'Age_group', 'COVID_severity', 'COVID_status', 'Group', 'Smoker', 'sample_id', 'sequencing_library', 'Protein_modality_weight', 'assay_ontology_term_id', 'cell_type_ontology_term_id', 'development_stage_ontology_term_id', 'disease_ontology_term_id', 'is_primary_data', 'organism_ontology_term_id', 'sex_ontology_term_id', 'tissue_ontology_term_id', 'self_reported_ethnicity_ontology_term_id', 'donor_id', 'suspension_type', 'tissue_type', 'cell_type', 'assay', 'disease', 'organism', 'sex', 'tissue', 'self_reported_ethnicity', 'development_stage', 'observation_joinid'\n",
       "    var: 'name', 'feature_is_filtered', 'feature_name', 'feature_reference', 'feature_biotype', 'feature_length', 'feature_type'\n",
       "    uns: 'antibody_X', 'antibody_features', 'citation', 'default_embedding', 'schema_reference', 'schema_version', 'title'\n",
       "    obsm: 'X_umap_after_harmony_ADT', 'X_umap_after_harmony_RNA', 'X_umap_before_harmony_ADT', 'X_umap_before_harmony_RNA', 'X_umap_wnn_derived'"
      ]
     },
     "execution_count": 3,
     "metadata": {},
     "output_type": "execute_result"
    }
   ],
   "source": [
    "ann_data"
   ]
  },
  {
   "cell_type": "code",
   "execution_count": 4,
   "id": "c515a81f-14c7-454d-bda8-ed8b4cb7b9f5",
   "metadata": {},
   "outputs": [
    {
     "data": {
      "text/plain": [
       "View of AnnData object with n_obs × n_vars = 337776 × 33105\n",
       "    obs: 'Ethnicity', 'BMI', 'annotation_broad', 'annotation_detailed', 'annotation_detailed_fullNames', 'Age_group', 'COVID_severity', 'COVID_status', 'Group', 'Smoker', 'sample_id', 'sequencing_library', 'Protein_modality_weight', 'assay_ontology_term_id', 'cell_type_ontology_term_id', 'development_stage_ontology_term_id', 'disease_ontology_term_id', 'is_primary_data', 'organism_ontology_term_id', 'sex_ontology_term_id', 'tissue_ontology_term_id', 'self_reported_ethnicity_ontology_term_id', 'donor_id', 'suspension_type', 'tissue_type', 'cell_type', 'assay', 'disease', 'organism', 'sex', 'tissue', 'self_reported_ethnicity', 'development_stage', 'observation_joinid'\n",
       "    var: 'name', 'feature_is_filtered', 'feature_name', 'feature_reference', 'feature_biotype', 'feature_length', 'feature_type'\n",
       "    uns: 'antibody_X', 'antibody_features', 'citation', 'default_embedding', 'schema_reference', 'schema_version', 'title'\n",
       "    obsm: 'X_umap_after_harmony_ADT', 'X_umap_after_harmony_RNA', 'X_umap_before_harmony_ADT', 'X_umap_before_harmony_RNA', 'X_umap_wnn_derived'"
      ]
     },
     "execution_count": 4,
     "metadata": {},
     "output_type": "execute_result"
    }
   ],
   "source": [
    "# Shuffle the dataset.\n",
    "# Seed used for reproducibility\n",
    "#hf_dataset.shuffle(seed=42)\n",
    "#X_train = get_anndata_from_hf_dataset(hf_dataset[\"train\"])[:1000]\n",
    "#X_test = get_anndata_from_hf_dataset(hf_dataset[\"test\"])[:100]\n",
    "\n",
    "import anndata as ad\n",
    "from sklearn.model_selection import train_test_split\n",
    "\n",
    "\n",
    "ann_data.X = ann_data.raw.X.copy()\n",
    "# Shuffle the AnnData object by its observations (cells)\n",
    "ann_data = ann_data[ann_data.obs.sample(frac=1, random_state=42).index]\n",
    "\n",
    "# Split the data into training and testing sets (80% train, 20% test)\n",
    "X_train, X_test = train_test_split(ann_data, test_size=0.2, random_state=42)\n",
    "\n",
    "# Now you have train_adata and test_adata while keeping the AnnData structure intact\n",
    "X_train"
   ]
  },
  {
   "cell_type": "code",
   "execution_count": 5,
   "id": "409b78b9-5c22-4c36-93c9-1bc9f9f0d149",
   "metadata": {},
   "outputs": [],
   "source": [
    "device = \"cuda\" if torch.cuda.is_available() else \"cpu\"\n",
    "model_config = GeneformerConfig(batch_size=10,device=device)   \n",
    "geneformer = Geneformer(configurer=model_config)"
   ]
  },
  {
   "cell_type": "code",
   "execution_count": 6,
   "id": "cdefce38-b055-4c9e-8e7f-ccb5dab88804",
   "metadata": {},
   "outputs": [
    {
     "name": "stderr",
     "output_type": "stream",
     "text": [
      "100%|█████████████████████████████████████████| 660/660 [03:48<00:00,  2.89it/s]\n"
     ]
    },
    {
     "data": {
      "application/vnd.jupyter.widget-view+json": {
       "model_id": "71817e99a5ee4586a0ac8533ea98aefb",
       "version_major": 2,
       "version_minor": 0
      },
      "text/plain": [
       "Map:   0%|          | 0/337776 [00:00<?, ? examples/s]"
      ]
     },
     "metadata": {},
     "output_type": "display_data"
    },
    {
     "name": "stderr",
     "output_type": "stream",
     "text": [
      "100%|█████████████████████████████████████████| 165/165 [00:57<00:00,  2.86it/s]\n"
     ]
    },
    {
     "data": {
      "application/vnd.jupyter.widget-view+json": {
       "model_id": "ff42ea23f9f64f4c91e8f7c7bcf6d889",
       "version_major": 2,
       "version_minor": 0
      },
      "text/plain": [
       "Map:   0%|          | 0/84444 [00:00<?, ? examples/s]"
      ]
     },
     "metadata": {},
     "output_type": "display_data"
    }
   ],
   "source": [
    "# The \"process_data\"-function from the Helical package pre-processes the data. \n",
    "# It takes AnnData as an input. \n",
    "# More information in our documentation\n",
    "X_train.var[\"ensembl_id\"] = X_train.var_names\n",
    "X_test.var[\"ensembl_id\"] = X_test.var_names\n",
    "\n",
    "train_dataset = geneformer.process_data(X_train, gene_names='ensembl_id')\n",
    "test_dataset = geneformer.process_data(X_test, gene_names='ensembl_id')"
   ]
  },
  {
   "cell_type": "code",
   "execution_count": null,
   "id": "74bc8a09-a40d-437f-91d0-3f20187fe707",
   "metadata": {},
   "outputs": [
    {
     "data": {
      "application/vnd.jupyter.widget-view+json": {
       "model_id": "7e45385b013247ac983d7e480eb9a0f0",
       "version_major": 2,
       "version_minor": 0
      },
      "text/plain": [
       "  0%|          | 0/33778 [00:00<?, ?it/s]"
      ]
     },
     "metadata": {},
     "output_type": "display_data"
    }
   ],
   "source": [
    "ref_embeddings = geneformer.get_embeddings(train_dataset)\n",
    "test_embeddings = geneformer.get_embeddings(test_dataset)"
   ]
  },
  {
   "cell_type": "code",
   "execution_count": null,
   "id": "faf3760d-e0ee-4e26-b3eb-dad50918f88b",
   "metadata": {},
   "outputs": [],
   "source": [
    "reducer = umap.UMAP(min_dist=0.2, n_components=2, n_epochs=None,n_neighbors=3)\n",
    "mapper = reducer.fit(ref_embeddings)\n",
    "\n",
    "plot_df = pd.DataFrame(mapper.embedding_,columns=['px','py'])\n",
    "labels = X_train.obs['annotation_detailed']\n",
    "plot_df['Cell Type'] = labels.values\n",
    "\n",
    "\n",
    "# Create a matplotlib figure and axes\n",
    "fig, axs = plt.subplots(nrows=1, ncols=2, figsize=(14, 5))\n",
    "\n",
    "#plt.style.use(\"dark_background\")\n",
    "\n",
    "sns.scatterplot(data = plot_df,x='px',y='py',sizes=(50,200),ax=axs[0],palette=\"pastel\")\n",
    "axs[0].set_title('UMAP of Reference Data without labels')\n",
    "\n",
    "sns.scatterplot(data = plot_df,x='px',y='py',hue='Cell Type',sizes=(50,200),ax=axs[1],palette=\"pastel\")\n",
    "axs[1].set_title('UMAP of Reference Data with labels')"
   ]
  }
 ],
 "metadata": {
  "kernelspec": {
   "display_name": "Python 3 (ipykernel)",
   "language": "python",
   "name": "python3"
  },
  "language_info": {
   "codemirror_mode": {
    "name": "ipython",
    "version": 3
   },
   "file_extension": ".py",
   "mimetype": "text/x-python",
   "name": "python",
   "nbconvert_exporter": "python",
   "pygments_lexer": "ipython3",
   "version": "3.11.11"
  }
 },
 "nbformat": 4,
 "nbformat_minor": 5
}
