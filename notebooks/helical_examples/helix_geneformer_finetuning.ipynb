{
 "cells": [
  {
   "cell_type": "code",
   "execution_count": 6,
   "id": "b50d5f70-af08-4554-8d8d-f19d221e2c26",
   "metadata": {},
   "outputs": [
    {
     "name": "stderr",
     "output_type": "stream",
     "text": [
      "INFO:helical.models.geneformer.model:Model finished initializing.\n",
      "INFO:helical.models.geneformer.model:'gf-12L-95M-i4096' model is in 'eval' mode, on device 'cpu' with embedding mode 'cell'.\n",
      "INFO:helical.models.geneformer.model:Processing data for Geneformer.\n",
      "WARNING:py.warnings:/usr/local/lib/python3.11/site-packages/helical/models/base_models.py:88: ImplicitModificationWarning: Trying to modify attribute `.var` of view, initializing view as actual.\n",
      "  adata.var[\"index\"] = adata.var.index\n",
      "\n",
      "INFO:pyensembl.database:Creating database: /iridisfs/ddnb/Ahmed/AI_hackathon25/.cache/pyensembl/GRCh38/ensembl110/Homo_sapiens.GRCh38.110.gtf.db\n",
      "INFO:pyensembl.database:Reading GTF from /iridisfs/ddnb/Ahmed/AI_hackathon25/.cache/pyensembl/GRCh38/ensembl110/Homo_sapiens.GRCh38.110.gtf.gz\n",
      "INFO:root:Extracted GTF attributes: ['gene_id', 'gene_version', 'gene_name', 'gene_biotype', 'transcript_id', 'transcript_version', 'transcript_name', 'transcript_biotype', 'transcript_support_level', 'exon_number', 'exon_id', 'exon_version', 'protein_id', 'protein_version', 'ccds_id']\n",
      "INFO:datacache.database_helpers:Creating database /iridisfs/ddnb/Ahmed/AI_hackathon25/.cache/pyensembl/GRCh38/ensembl110/Homo_sapiens.GRCh38.110.gtf.db containing: stop_codon, gene, exon, CDS, transcript, start_codon\n",
      "INFO:datacache.database:Running sqlite query: \"CREATE TABLE stop_codon (feature TEXT NOT NULL, exon_version TEXT NOT NULL, protein_version TEXT NOT NULL, end INT NOT NULL, gene_biotype TEXT NOT NULL, start INT NOT NULL, gene_name TEXT NOT NULL, transcript_version TEXT NOT NULL, exon_number TEXT NOT NULL, transcript_name TEXT NOT NULL, seqname TEXT NOT NULL, transcript_biotype TEXT NOT NULL, strand TEXT NOT NULL, exon_id TEXT NOT NULL, ccds_id TEXT NOT NULL, protein_id TEXT NOT NULL, source TEXT NOT NULL, transcript_id TEXT NOT NULL, gene_id TEXT NOT NULL, gene_version TEXT NOT NULL, transcript_support_level TEXT NOT NULL)\"\n",
      "INFO:datacache.database:Inserting 91861 rows into table stop_codon\n",
      "INFO:datacache.database:Creating index on stop_codon (seqname, start, end)\n",
      "INFO:datacache.database:Creating index on stop_codon (gene_name)\n",
      "INFO:datacache.database:Creating index on stop_codon (gene_id)\n",
      "INFO:datacache.database:Creating index on stop_codon (transcript_id)\n",
      "INFO:datacache.database:Creating index on stop_codon (transcript_name)\n",
      "INFO:datacache.database:Creating index on stop_codon (exon_id)\n",
      "INFO:datacache.database:Creating index on stop_codon (protein_id)\n",
      "INFO:datacache.database:Creating index on stop_codon (ccds_id)\n",
      "INFO:datacache.database:Running sqlite query: \"CREATE TABLE gene (feature TEXT NOT NULL, exon_version TEXT NOT NULL, protein_version TEXT NOT NULL, end INT NOT NULL, gene_biotype TEXT NOT NULL, start INT NOT NULL, gene_name TEXT NOT NULL, transcript_version TEXT NOT NULL, exon_number TEXT NOT NULL, transcript_name TEXT NOT NULL, seqname TEXT NOT NULL, transcript_biotype TEXT NOT NULL, strand TEXT NOT NULL, exon_id TEXT NOT NULL, ccds_id TEXT NOT NULL, protein_id TEXT NOT NULL, source TEXT NOT NULL, transcript_id TEXT NOT NULL, gene_id TEXT UNIQUE PRIMARY KEY NOT NULL, gene_version TEXT NOT NULL, transcript_support_level TEXT NOT NULL)\"\n",
      "INFO:datacache.database:Inserting 62754 rows into table gene\n",
      "INFO:datacache.database:Creating index on gene (seqname, start, end)\n",
      "INFO:datacache.database:Creating index on gene (gene_name)\n",
      "INFO:datacache.database:Creating index on gene (transcript_id)\n",
      "INFO:datacache.database:Creating index on gene (transcript_name)\n",
      "INFO:datacache.database:Creating index on gene (exon_id)\n",
      "INFO:datacache.database:Creating index on gene (protein_id)\n",
      "INFO:datacache.database:Creating index on gene (ccds_id)\n",
      "INFO:datacache.database:Running sqlite query: \"CREATE TABLE exon (feature TEXT NOT NULL, exon_version TEXT NOT NULL, protein_version TEXT NOT NULL, end INT NOT NULL, gene_biotype TEXT NOT NULL, start INT NOT NULL, gene_name TEXT NOT NULL, transcript_version TEXT NOT NULL, exon_number TEXT NOT NULL, transcript_name TEXT NOT NULL, seqname TEXT NOT NULL, transcript_biotype TEXT NOT NULL, strand TEXT NOT NULL, exon_id TEXT NOT NULL, ccds_id TEXT NOT NULL, protein_id TEXT NOT NULL, source TEXT NOT NULL, transcript_id TEXT NOT NULL, gene_id TEXT NOT NULL, gene_version TEXT NOT NULL, transcript_support_level TEXT NOT NULL)\"\n",
      "INFO:datacache.database:Inserting 1649677 rows into table exon\n",
      "INFO:datacache.database:Creating index on exon (seqname, start, end)\n",
      "INFO:datacache.database:Creating index on exon (gene_name)\n",
      "INFO:datacache.database:Creating index on exon (gene_id)\n",
      "INFO:datacache.database:Creating index on exon (transcript_id)\n",
      "INFO:datacache.database:Creating index on exon (transcript_name)\n",
      "INFO:datacache.database:Creating index on exon (exon_id)\n",
      "INFO:datacache.database:Creating index on exon (protein_id)\n",
      "INFO:datacache.database:Creating index on exon (ccds_id)\n",
      "INFO:datacache.database:Running sqlite query: \"CREATE TABLE CDS (feature TEXT NOT NULL, exon_version TEXT NOT NULL, protein_version TEXT NOT NULL, end INT NOT NULL, gene_biotype TEXT NOT NULL, start INT NOT NULL, gene_name TEXT NOT NULL, transcript_version TEXT NOT NULL, exon_number TEXT NOT NULL, transcript_name TEXT NOT NULL, seqname TEXT NOT NULL, transcript_biotype TEXT NOT NULL, strand TEXT NOT NULL, exon_id TEXT NOT NULL, ccds_id TEXT NOT NULL, protein_id TEXT NOT NULL, source TEXT NOT NULL, transcript_id TEXT NOT NULL, gene_id TEXT NOT NULL, gene_version TEXT NOT NULL, transcript_support_level TEXT NOT NULL)\"\n",
      "INFO:datacache.database:Inserting 885265 rows into table CDS\n",
      "INFO:datacache.database:Creating index on CDS (seqname, start, end)\n",
      "INFO:datacache.database:Creating index on CDS (gene_name)\n",
      "INFO:datacache.database:Creating index on CDS (gene_id)\n",
      "INFO:datacache.database:Creating index on CDS (transcript_id)\n",
      "INFO:datacache.database:Creating index on CDS (transcript_name)\n",
      "INFO:datacache.database:Creating index on CDS (exon_id)\n",
      "INFO:datacache.database:Creating index on CDS (protein_id)\n",
      "INFO:datacache.database:Creating index on CDS (ccds_id)\n",
      "INFO:datacache.database:Running sqlite query: \"CREATE TABLE transcript (feature TEXT NOT NULL, exon_version TEXT NOT NULL, protein_version TEXT NOT NULL, end INT NOT NULL, gene_biotype TEXT NOT NULL, start INT NOT NULL, gene_name TEXT NOT NULL, transcript_version TEXT NOT NULL, exon_number TEXT NOT NULL, transcript_name TEXT NOT NULL, seqname TEXT NOT NULL, transcript_biotype TEXT NOT NULL, strand TEXT NOT NULL, exon_id TEXT NOT NULL, ccds_id TEXT NOT NULL, protein_id TEXT NOT NULL, source TEXT NOT NULL, transcript_id TEXT UNIQUE PRIMARY KEY NOT NULL, gene_id TEXT NOT NULL, gene_version TEXT NOT NULL, transcript_support_level TEXT NOT NULL)\"\n",
      "INFO:datacache.database:Inserting 252894 rows into table transcript\n",
      "INFO:datacache.database:Creating index on transcript (seqname, start, end)\n",
      "INFO:datacache.database:Creating index on transcript (gene_name)\n",
      "INFO:datacache.database:Creating index on transcript (gene_id)\n",
      "INFO:datacache.database:Creating index on transcript (transcript_name)\n",
      "INFO:datacache.database:Creating index on transcript (exon_id)\n",
      "INFO:datacache.database:Creating index on transcript (protein_id)\n",
      "INFO:datacache.database:Creating index on transcript (ccds_id)\n",
      "INFO:datacache.database:Running sqlite query: \"CREATE TABLE start_codon (feature TEXT NOT NULL, exon_version TEXT NOT NULL, protein_version TEXT NOT NULL, end INT NOT NULL, gene_biotype TEXT NOT NULL, start INT NOT NULL, gene_name TEXT NOT NULL, transcript_version TEXT NOT NULL, exon_number TEXT NOT NULL, transcript_name TEXT NOT NULL, seqname TEXT NOT NULL, transcript_biotype TEXT NOT NULL, strand TEXT NOT NULL, exon_id TEXT NOT NULL, ccds_id TEXT NOT NULL, protein_id TEXT NOT NULL, source TEXT NOT NULL, transcript_id TEXT NOT NULL, gene_id TEXT NOT NULL, gene_version TEXT NOT NULL, transcript_support_level TEXT NOT NULL)\"\n",
      "INFO:datacache.database:Inserting 97935 rows into table start_codon\n",
      "INFO:datacache.database:Creating index on start_codon (seqname, start, end)\n",
      "INFO:datacache.database:Creating index on start_codon (gene_name)\n",
      "INFO:datacache.database:Creating index on start_codon (gene_id)\n",
      "INFO:datacache.database:Creating index on start_codon (transcript_id)\n",
      "INFO:datacache.database:Creating index on start_codon (transcript_name)\n",
      "INFO:datacache.database:Creating index on start_codon (exon_id)\n",
      "INFO:datacache.database:Creating index on start_codon (protein_id)\n",
      "INFO:datacache.database:Creating index on start_codon (ccds_id)\n",
      "INFO:datacache.database:Running sqlite query: \"CREATE TABLE _datacache_metadata (version INT)\"\n",
      "INFO:datacache.database:Running sqlite query: \"INSERT INTO _datacache_metadata VALUES (3)\"\n",
      "INFO:pyensembl.sequence_data:Parsing sequences from FASTA file at /iridisfs/ddnb/Ahmed/AI_hackathon25/.cache/pyensembl/GRCh38/ensembl110/Homo_sapiens.GRCh38.cdna.all.fa.gz\n",
      "INFO:pyensembl.sequence_data:Saving sequence dictionary to /iridisfs/ddnb/Ahmed/AI_hackathon25/.cache/pyensembl/GRCh38/ensembl110/Homo_sapiens.GRCh38.cdna.all.fa.gz.pickle\n",
      "INFO:pyensembl.sequence_data:Parsing sequences from FASTA file at /iridisfs/ddnb/Ahmed/AI_hackathon25/.cache/pyensembl/GRCh38/ensembl110/Homo_sapiens.GRCh38.ncrna.fa.gz\n",
      "INFO:pyensembl.sequence_data:Saving sequence dictionary to /iridisfs/ddnb/Ahmed/AI_hackathon25/.cache/pyensembl/GRCh38/ensembl110/Homo_sapiens.GRCh38.ncrna.fa.gz.pickle\n",
      "INFO:pyensembl.sequence_data:Parsing sequences from FASTA file at /iridisfs/ddnb/Ahmed/AI_hackathon25/.cache/pyensembl/GRCh38/ensembl110/Homo_sapiens.GRCh38.pep.all.fa.gz\n",
      "INFO:pyensembl.sequence_data:Saving sequence dictionary to /iridisfs/ddnb/Ahmed/AI_hackathon25/.cache/pyensembl/GRCh38/ensembl110/Homo_sapiens.GRCh38.pep.all.fa.gz.pickle\n",
      "INFO:helical.utils.mapping:Mapped 21359 genes to Ensembl IDs from a total of 37318 genes.\n",
      "INFO:helical.models.geneformer.geneformer_tokenizer:AnnData object with n_obs × n_vars = 10 × 37318\n",
      "    obs: 'component', 'stage', 'sex', 'sort.ids', 'fetal.ids', 'orig.dataset', 'sequencing.type', 'lanes', 'LVL1', 'LVL2', 'LVL3', 'LVL3_for_embryo_study', 'total_counts'\n",
      "    var: 'n_cells', 'index', 'ensembl_id', 'gene_ids_collapsed'\n",
      "    obsm: 'X_umap' has no column attribute 'filter_pass'; tokenizing all cells.\n",
      "INFO:helical.models.geneformer.geneformer_tokenizer:Creating dataset.\n"
     ]
    },
    {
     "data": {
      "application/vnd.jupyter.widget-view+json": {
       "model_id": "1a4d3548a3bb4157b01b071b81b837d3",
       "version_major": 2,
       "version_minor": 0
      },
      "text/plain": [
       "Map:   0%|          | 0/10 [00:00<?, ? examples/s]"
      ]
     },
     "metadata": {},
     "output_type": "display_data"
    },
    {
     "name": "stderr",
     "output_type": "stream",
     "text": [
      "INFO:helical.models.geneformer.model:Successfully processed the data for Geneformer.\n"
     ]
    },
    {
     "data": {
      "application/vnd.jupyter.widget-view+json": {
       "model_id": "c0b288f230ad4151b432d180dbee8f1d",
       "version_major": 2,
       "version_minor": 0
      },
      "text/plain": [
       "Map:   0%|          | 0/10 [00:00<?, ? examples/s]"
      ]
     },
     "metadata": {},
     "output_type": "display_data"
    },
    {
     "name": "stderr",
     "output_type": "stream",
     "text": [
      "WARNING:helical.models.geneformer.geneformer_utils:CLS token present in token dictionary, excluding from average.\n",
      "WARNING:helical.models.geneformer.geneformer_utils:EOS token present in token dictionary, excluding from average.\n",
      "INFO:helical.models.geneformer.fine_tuning_model:Freezing the first 2 encoder layers of the Geneformer model during fine-tuning.\n",
      "INFO:helical.models.geneformer.fine_tuning_model:Starting Fine-Tuning\n",
      "Fine-Tuning: epoch 1/1: 100%|██████████| 1/1 [00:19<00:00, 19.39s/it, loss=1.08]\n",
      "INFO:helical.models.geneformer.fine_tuning_model:Fine-Tuning Complete. Epochs: 1\n",
      "WARNING:helical.models.geneformer.geneformer_utils:CLS token present in token dictionary, excluding from average.\n",
      "WARNING:helical.models.geneformer.geneformer_utils:EOS token present in token dictionary, excluding from average.\n",
      "Generating Outputs: 100%|█████████████████████████| 1/1 [00:06<00:00,  6.18s/it]\n",
      "INFO:helical.models.geneformer.model:Started getting embeddings:\n",
      "WARNING:helical.models.geneformer.geneformer_utils:CLS token present in token dictionary, excluding from average.\n",
      "WARNING:helical.models.geneformer.geneformer_utils:EOS token present in token dictionary, excluding from average.\n"
     ]
    },
    {
     "name": "stdout",
     "output_type": "stream",
     "text": [
      "[[ 0.15081748 -0.06346078 -0.56110454]\n",
      " [-0.00679038  0.02107927 -0.6898344 ]\n",
      " [ 0.0529997  -0.21104313 -0.6146271 ]\n",
      " [-0.05096861 -0.12723312 -0.43499652]\n",
      " [-0.01879785 -0.02841391 -0.13580431]\n",
      " [-0.0149862   0.23591338 -0.440272  ]\n",
      " [ 0.07100906  0.2652189  -0.45508307]\n",
      " [ 0.17037587  0.11608269 -0.6285559 ]\n",
      " [-0.12839933  0.11869971 -0.5772698 ]\n",
      " [ 0.12664373  0.22253424 -0.5146089 ]]\n"
     ]
    },
    {
     "data": {
      "application/vnd.jupyter.widget-view+json": {
       "model_id": "77691e1316e34aa9a37f833aa66f08c4",
       "version_major": 2,
       "version_minor": 0
      },
      "text/plain": [
       "  0%|          | 0/1 [00:00<?, ?it/s]"
      ]
     },
     "metadata": {},
     "output_type": "display_data"
    },
    {
     "name": "stderr",
     "output_type": "stream",
     "text": [
      "INFO:helical.models.geneformer.model:Finished getting embeddings.\n"
     ]
    },
    {
     "name": "stdout",
     "output_type": "stream",
     "text": [
      "[[ 3.82001474e-02  1.35832861e-01  2.00044245e-01 ...  7.83510447e-01\n",
      "  -3.24058771e-01  9.67910737e-02]\n",
      " [ 2.63552703e-02  8.81082714e-02  1.08287781e-01 ...  4.40737635e-01\n",
      "  -1.95383936e-01 -3.65763757e-04]\n",
      " [ 2.92194672e-02  1.03832863e-01  1.76487669e-01 ...  4.98648375e-01\n",
      "  -3.19269329e-01  1.17930502e-01]\n",
      " ...\n",
      " [-5.35750389e-02  2.06559882e-01  1.58944502e-01 ...  7.81549692e-01\n",
      "  -3.26168060e-01 -6.59578145e-02]\n",
      " [-2.49309912e-02  5.23413159e-02  1.26074329e-01 ...  3.68590921e-01\n",
      "  -1.78751573e-01  3.24401967e-02]\n",
      " [ 3.30880769e-02  1.19081765e-01  2.11631417e-01 ...  5.12477517e-01\n",
      "  -3.67965877e-01  6.01701476e-02]]\n"
     ]
    }
   ],
   "source": [
    "from helical.models.geneformer import GeneformerConfig, GeneformerFineTuningModel\n",
    "import anndata as ad\n",
    "\n",
    "# Load the data\n",
    "ann_data = ad.read_h5ad(\"../yolksac_human.h5ad\")\n",
    "\n",
    "# Get the column for fine-tuning\n",
    "cell_types = list(ann_data.obs[\"LVL1\"][:10])\n",
    "label_set = set(cell_types)\n",
    "\n",
    "# Create a GeneformerConfig object\n",
    "geneformer_config = GeneformerConfig(model_name=\"gf-12L-95M-i4096\", batch_size=10)\n",
    "\n",
    "# Create a GeneformerFineTuningModel object\n",
    "geneformer_fine_tune = GeneformerFineTuningModel(geneformer_config=geneformer_config, fine_tuning_head=\"classification\", output_size=len(label_set))\n",
    "\n",
    "# Process the data\n",
    "dataset = geneformer_fine_tune.process_data(ann_data[:10])\n",
    "\n",
    "# Add column to the dataset\n",
    "dataset = dataset.add_column('cell_types', cell_types)\n",
    "\n",
    "# Create a dictionary to map cell types to ids\n",
    "class_id_dict = dict(zip(label_set, [i for i in range(len(label_set))]))\n",
    "\n",
    "def classes_to_ids(example):\n",
    "    example[\"cell_types\"] = class_id_dict[example[\"cell_types\"]]\n",
    "    return example\n",
    "\n",
    "# Convert cell types to ids\n",
    "dataset = dataset.map(classes_to_ids, num_proc=1)\n",
    "\n",
    "# Fine-tune the model\n",
    "geneformer_fine_tune.train(train_dataset=dataset, label=\"cell_types\")\n",
    "\n",
    "# Get logits from the fine-tuned model\n",
    "outputs = geneformer_fine_tune.get_outputs(dataset)\n",
    "print(outputs[:10])\n",
    "\n",
    "# Get embeddings from the fine-tuned model\n",
    "embeddings = geneformer_fine_tune.get_embeddings(dataset)\n",
    "print(embeddings[:10])"
   ]
  },
  {
   "cell_type": "code",
   "execution_count": 3,
   "id": "247e3a7f-7710-4fba-ba8c-32de9f4d648a",
   "metadata": {},
   "outputs": [
    {
     "name": "stdout",
     "output_type": "stream",
     "text": [
      "Current working directory: /iridisfs/ddnb/Ahmed/AI_hackathon25/notebooks\n"
     ]
    }
   ],
   "source": [
    "import os\n",
    "current_directory = os.getcwd()\n",
    "print(f\"Current working directory: {current_directory}\")\n"
   ]
  }
 ],
 "metadata": {
  "kernelspec": {
   "display_name": "Python 3 (ipykernel)",
   "language": "python",
   "name": "python3"
  },
  "language_info": {
   "codemirror_mode": {
    "name": "ipython",
    "version": 3
   },
   "file_extension": ".py",
   "mimetype": "text/x-python",
   "name": "python",
   "nbconvert_exporter": "python",
   "pygments_lexer": "ipython3",
   "version": "3.11.11"
  }
 },
 "nbformat": 4,
 "nbformat_minor": 5
}
